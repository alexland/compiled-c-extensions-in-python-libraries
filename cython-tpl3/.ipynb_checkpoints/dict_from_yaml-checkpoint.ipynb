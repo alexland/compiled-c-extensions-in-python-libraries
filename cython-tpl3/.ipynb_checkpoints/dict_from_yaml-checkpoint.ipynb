{
 "metadata": {
  "name": "",
  "signature": "sha256:db904386ebb084c0bc15c0216ec4a4be4092b9b46abc8b2f96c23bdbe2b64722"
 },
 "nbformat": 3,
 "nbformat_minor": 0,
 "worksheets": [
  {
   "cells": [
    {
     "cell_type": "code",
     "collapsed": false,
     "input": [
      "import os\n",
      "import json\n",
      "import numpy as NP\n",
      "import collections as CL"
     ],
     "language": "python",
     "metadata": {},
     "outputs": [],
     "prompt_number": 1
    },
    {
     "cell_type": "code",
     "collapsed": false,
     "input": [],
     "language": "python",
     "metadata": {},
     "outputs": [],
     "prompt_number": 1
    },
    {
     "cell_type": "code",
     "collapsed": false,
     "input": [
      "def mock_data():\n",
      "    import string\n",
      "    w = NP.zeros(10)\n",
      "    q = 3 * NP.ones(2)\n",
      "    w[1:7] = q.repeat(3)\n",
      "    w[-3:-2] = 0\n",
      "    w[-2:] = 3\n",
      "    w[3:5] = 3\n",
      "    # w[3:5] = 6\n",
      "    w = NP.array(w, dtype=int)\n",
      "    d = string.ascii_uppercase[:10]\n",
      "    d = list(d)\n",
      "    return d, w"
     ],
     "language": "python",
     "metadata": {},
     "outputs": [],
     "prompt_number": 186
    },
    {
     "cell_type": "code",
     "collapsed": false,
     "input": [
      "dx = CL.defaultdict(list)\n",
      "\n",
      "def fnx(w, d, node, n=0, dx=dx):\n",
      "    dx['name'] = node\n",
      "    for i, itm in enumerate(w):\n",
      "        if itm == n+3:\n",
      "            dx['children'].append(d[i])\n",
      "        elif itm > n+3:\n",
      "            print(\"{}\\t{}\".format(d[i], itm))\n",
      "            return fnx(w[i+1:], d[i+1:], node=d[i-1], n=itm-3, dx=dx)\n",
      "        else:\n",
      "            return fnx(w[i+1:], d[i+1:], node=d[i], n=itm, dx=dx)\n",
      "    return DX\n",
      "            "
     ],
     "language": "python",
     "metadata": {},
     "outputs": [],
     "prompt_number": 190
    },
    {
     "cell_type": "code",
     "collapsed": false,
     "input": [
      "DX = {}\n",
      "DX[\"name\"] = \"PG Taxonomy\"\n",
      "DX[\"children\"] = []\n",
      "\n",
      "def fnx(d, w, DX, nl):\n",
      "    for i, itm in enumerate(w):\n",
      "        if itm==nl:\n",
      "            dx = {\"name\": d[i], \"children\": []}\n",
      "            DX[\"children\"].append(dx)\n",
      "        elif itm > nl:\n",
      "            dx[\"name\"], dx[\"children\"] = d[i], []\n",
      "            fnx(d[i:], w[i:], DX, nl=itm)\n",
      "            "
     ],
     "language": "python",
     "metadata": {},
     "outputs": [],
     "prompt_number": 191
    },
    {
     "cell_type": "code",
     "collapsed": false,
     "input": [
      "fnx(d, w, DX, nl=0)"
     ],
     "language": "python",
     "metadata": {},
     "outputs": [],
     "prompt_number": 192
    },
    {
     "cell_type": "code",
     "collapsed": false,
     "input": [
      "d, w = mock_data()\n",
      "idx = range(len(d))\n",
      "for idx, a, b in zip(idx, d, w):\n",
      "    print(\"{}\\t{}\\t{}\".format(idx, a, b))"
     ],
     "language": "python",
     "metadata": {},
     "outputs": [
      {
       "output_type": "stream",
       "stream": "stdout",
       "text": [
        "0\tA\t0\n",
        "1\tB\t3\n",
        "2\tC\t3\n",
        "3\tD\t3\n",
        "4\tE\t3\n",
        "5\tF\t3\n",
        "6\tG\t3\n",
        "7\tH\t0\n",
        "8\tI\t3\n",
        "9\tJ\t3\n"
       ]
      }
     ],
     "prompt_number": 193
    },
    {
     "cell_type": "code",
     "collapsed": false,
     "input": [
      "\n",
      "\n",
      "nl = 0\n",
      "\n",
      "def fnx(d, w, DX, nl):\n",
      "    for i, itm in enumerate(w):\n",
      "        if itm==nl:\n",
      "            # print(\"{:<5}\".format(d[i]))\n",
      "            dx = {\"name\": d[i], \"children\": []}\n",
      "            DX[\"children\"].append(dx)\n",
      "        elif itm > nl:\n",
      "            dx1 = {\"name\":d[i], \"children\": []}\n",
      "            dx[\"children\"].append(dx1)\n",
      "            fnx(d[i:], w[i:], dx1, nl=itm)\n",
      "        "
     ],
     "language": "python",
     "metadata": {},
     "outputs": [],
     "prompt_number": 215
    },
    {
     "cell_type": "code",
     "collapsed": false,
     "input": [
      "'''\n",
      "elif itm > nl:\n",
      "    dx[\"name\"], dx[\"children\"] = d[i], []\n",
      "    print(\"{:<5} {:<5}\".format(\"\", d[i]))\n",
      "    fnx(d[i:], w[i:], DX, nl=itm)\n",
      "'''"
     ],
     "language": "python",
     "metadata": {},
     "outputs": [
      {
       "metadata": {},
       "output_type": "pyout",
       "prompt_number": 216,
       "text": [
        "'\\nelif itm > nl:\\n    dx[\"name\"], dx[\"children\"] = d[i], []\\n    print(\"{:<5} {:<5}\".format(\"\", d[i]))\\n    fnx(d[i:], w[i:], DX, nl=itm)\\n'"
       ]
      }
     ],
     "prompt_number": 216
    },
    {
     "cell_type": "code",
     "collapsed": false,
     "input": [
      "DX = {}\n",
      "DX[\"name\"] = \"PG taxonomy\"\n",
      "DX[\"children\"] = []\n",
      "\n",
      "fnx(d, w, DX, nl=0)"
     ],
     "language": "python",
     "metadata": {},
     "outputs": [],
     "prompt_number": 217
    },
    {
     "cell_type": "code",
     "collapsed": false,
     "input": [
      "import json as JSON\n",
      "import os\n",
      "\n",
      "fname = os.path.expanduser(\"~/Projects/tx/dict-tree/tx-2.json\")\n",
      "with open(fname, 'w', encoding='utf-8') as fh:\n",
      "    JSON.dump(DX, fh)\n"
     ],
     "language": "python",
     "metadata": {},
     "outputs": [],
     "prompt_number": 218
    },
    {
     "cell_type": "code",
     "collapsed": false,
     "input": [],
     "language": "python",
     "metadata": {},
     "outputs": [],
     "prompt_number": 209
    },
    {
     "cell_type": "code",
     "collapsed": false,
     "input": [],
     "language": "python",
     "metadata": {},
     "outputs": [],
     "prompt_number": 210
    },
    {
     "cell_type": "code",
     "collapsed": false,
     "input": [],
     "language": "python",
     "metadata": {},
     "outputs": [],
     "prompt_number": 210
    },
    {
     "cell_type": "code",
     "collapsed": false,
     "input": [],
     "language": "python",
     "metadata": {},
     "outputs": []
    },
    {
     "cell_type": "code",
     "collapsed": false,
     "input": [
      "dx = {\n",
      " \"name\": \"PG Taxonomy\",\n",
      " \"children\": [\n",
      "  {\n",
      "   \"name\": \"analytics\",\n",
      "   \"children\": [\n",
      "    {\n",
      "     \"name\": \"cluster\",\n",
      "     \"children\": [\n",
      "      {\"name\": \"AgglomerativeCluster\", \"size\": 3938},\n",
      "      {\"name\": \"CommunityStructure\", \"size\": 3812},\n",
      "      {\"name\": \"MergeEdge\", \"size\": 743}\n",
      "     ]\n",
      "    },\n",
      "    {\n",
      "     \"name\": \"graph\",\n",
      "     \"children\": [\n",
      "      {\"name\": \"BetweennessCentrality\", \"size\": 3534},\n",
      "      {\"name\": \"LinkDistance\", \"size\": 5731}\n",
      "     ]\n",
      "    },\n",
      "    {\n",
      "     \"name\": \"optimization\",\n",
      "     \"children\": [\n",
      "      {\"name\": \"AspectRatioBanker\", \"size\": 7074}\n",
      "     ]\n",
      "    }\n",
      "   ]\n",
      "  },\n",
      "  {\n",
      "   \"name\": \"animate\",\n",
      "   \"children\": [\n",
      "    {\"name\": \"Easing\", \"size\": 17010},\n",
      "    {\"name\": \"FunctionSequence\", \"size\": 5842},\n",
      "    {\n",
      "     \"name\": \"interpolate\",\n",
      "     \"children\": [\n",
      "      {\"name\": \"ArrayInterpolator\", \"size\": 1983},\n",
      "      {\"name\": \"ColorInterpolator\", \"size\": 2047},\n",
      "      {\"name\": \"DateInterpolator\", \"size\": 1375},\n",
      "      {\"name\": \"Interpolator\", \"size\": 8746},\n",
      "      {\"name\": \"MatrixInterpolator\", \"size\": 2202},\n",
      "      {\"name\": \"NumberInterpolator\", \"size\": 1382},\n",
      "      {\"name\": \"ObjectInterpolator\", \"size\": 1629},\n",
      "      {\"name\": \"PointInterpolator\", \"size\": 1675},\n",
      "      {\"name\": \"RectangleInterpolator\", \"size\": 2042}\n",
      "     ]\n",
      "    },\n",
      "    {\"name\": \"ISchedulable\", \"size\": 1041},\n",
      "    {\"name\": \"Parallel\", \"size\": 5176},\n",
      "    {\"name\": \"Pause\", \"size\": 449},\n",
      "    {\"name\": \"Scheduler\", \"size\": 5593},\n",
      "    {\"name\": \"Sequence\", \"size\": 5534},\n",
      "    {\"name\": \"Transition\", \"size\": 9201},\n",
      "    {\"name\": \"Transitioner\", \"size\": 19975},\n",
      "    {\"name\": \"TransitionEvent\", \"size\": 1116},\n",
      "    {\"name\": \"Tween\", \"size\": 6006}\n",
      "   ]\n",
      "  }\n",
      " ]\n",
      "}"
     ],
     "language": "python",
     "metadata": {},
     "outputs": [],
     "prompt_number": 5
    },
    {
     "cell_type": "code",
     "collapsed": false,
     "input": [
      "dx.keys()"
     ],
     "language": "python",
     "metadata": {},
     "outputs": [
      {
       "metadata": {},
       "output_type": "pyout",
       "prompt_number": 6,
       "text": [
        "dict_keys(['name', 'children'])"
       ]
      }
     ],
     "prompt_number": 6
    },
    {
     "cell_type": "code",
     "collapsed": false,
     "input": [
      "dx['name']"
     ],
     "language": "python",
     "metadata": {},
     "outputs": [
      {
       "metadata": {},
       "output_type": "pyout",
       "prompt_number": 7,
       "text": [
        "'flare'"
       ]
      }
     ],
     "prompt_number": 7
    },
    {
     "cell_type": "code",
     "collapsed": false,
     "input": [
      "chx = dx['children']\n",
      "\n",
      "for itm in chx:\n",
      "    print(type(itm))"
     ],
     "language": "python",
     "metadata": {},
     "outputs": [
      {
       "output_type": "stream",
       "stream": "stdout",
       "text": [
        "<class 'dict'>\n",
        "<class 'dict'>\n"
       ]
      }
     ],
     "prompt_number": 12
    },
    {
     "cell_type": "code",
     "collapsed": false,
     "input": [
      "dx = {}\n",
      "keys = \"name children\".split()\n",
      "dx = dict.fromkeys(keys)"
     ],
     "language": "python",
     "metadata": {},
     "outputs": [],
     "prompt_number": 16
    },
    {
     "cell_type": "code",
     "collapsed": false,
     "input": [
      "dx"
     ],
     "language": "python",
     "metadata": {},
     "outputs": [
      {
       "metadata": {},
       "output_type": "pyout",
       "prompt_number": 17,
       "text": [
        "{'name': None, 'children': None}"
       ]
      }
     ],
     "prompt_number": 17
    },
    {
     "cell_type": "code",
     "collapsed": false,
     "input": [
      "dx = CL.defaultdict(list)"
     ],
     "language": "python",
     "metadata": {},
     "outputs": [],
     "prompt_number": 21
    },
    {
     "cell_type": "code",
     "collapsed": false,
     "input": [
      "dx['children'].append({\"name\": \"X\", \"children\": []})\n",
      "\n",
      "dx['name'] = 'user001'"
     ],
     "language": "python",
     "metadata": {},
     "outputs": [],
     "prompt_number": 23
    },
    {
     "cell_type": "code",
     "collapsed": false,
     "input": [
      "dx"
     ],
     "language": "python",
     "metadata": {},
     "outputs": [
      {
       "metadata": {},
       "output_type": "pyout",
       "prompt_number": 24,
       "text": [
        "defaultdict(<class 'list'>, {'name': 'user001', 'children': [{'name': 'X', 'children': []}, {'name': 'X', 'children': []}]})"
       ]
      }
     ],
     "prompt_number": 24
    },
    {
     "cell_type": "code",
     "collapsed": false,
     "input": [],
     "language": "python",
     "metadata": {},
     "outputs": []
    }
   ],
   "metadata": {}
  }
 ]
}